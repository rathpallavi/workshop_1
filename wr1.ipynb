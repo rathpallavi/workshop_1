{
 "cells": [
  {
   "cell_type": "code",
   "execution_count": 1,
   "id": "641b6619",
   "metadata": {},
   "outputs": [
    {
     "name": "stdout",
     "output_type": "stream",
     "text": [
      "pallavi\n"
     ]
    }
   ],
   "source": [
    "a=input(\"pal\")"
   ]
  },
  {
   "cell_type": "code",
   "execution_count": 7,
   "id": "ad57914a",
   "metadata": {},
   "outputs": [
    {
     "name": "stdout",
     "output_type": "stream",
     "text": [
      "enter your name:2\n"
     ]
    }
   ],
   "source": [
    "a=int(input(\"enter your name:\"))"
   ]
  },
  {
   "cell_type": "code",
   "execution_count": 16,
   "id": "4d89bd79",
   "metadata": {},
   "outputs": [
    {
     "name": "stdout",
     "output_type": "stream",
     "text": [
      "5\n"
     ]
    }
   ],
   "source": [
    "if(a==2):\n",
    "    print(2+2)\n",
    "elif(a==3):\n",
    "    print(3)\n",
    "elif(a==4):\n",
    "    print(4)\n",
    "else:\n",
    "    print(5)\n",
    "    \n",
    "    "
   ]
  },
  {
   "cell_type": "code",
   "execution_count": 18,
   "id": "83ffc3bd",
   "metadata": {
    "scrolled": true
   },
   "outputs": [
    {
     "name": "stdout",
     "output_type": "stream",
     "text": [
      "enter a number2\n",
      "the type of a is <class 'str'>\n",
      "the type of b is <class 'bool'>\n",
      "the type of c is <class 'int'>\n",
      "the type of c is <class 'float'>\n"
     ]
    }
   ],
   "source": [
    "a=\"HI\"\n",
    "b=True\n",
    "c=20\n",
    "d=20.2\n",
    "e=int(input(\"enter a number\"))\n",
    "if (e==1):\n",
    "    print(\"True\")\n",
    "else:\n",
    "    (\"false\")\n",
    "print(\"the type of a is\",type(a))\n",
    "print(\"the type of b is\",type(b))\n",
    "print(\"the type of c is\",type(c))\n",
    "print(\"the type of c is\",type(d))\n",
    "        "
   ]
  },
  {
   "cell_type": "code",
   "execution_count": 6,
   "id": "99586e1c",
   "metadata": {},
   "outputs": [
    {
     "name": "stdout",
     "output_type": "stream",
     "text": [
      "enter first number:1\n",
      "enter second number:2\n",
      "enter the operater:+\n",
      "addition of a and b\n",
      " 3\n"
     ]
    }
   ],
   "source": [
    "a=int(input(\"enter first number:\"))\n",
    "b=int(input(\"enter second number:\"))\n",
    "c=input(\"enter the operater:\")\n",
    "if c=='+':\n",
    "    print(\"addition of a and b\\n\",a+b)\n",
    "elif c=='-':\n",
    "     print(f\"substraction of {a} and {b} is\\n {a-b}\")\n",
    "elif c=='*':\n",
    "    print(\"multiplicatin of a and b\\n\",a*b)\n",
    "elif c=='/':\n",
    "    print(\"division of a and b\\n\",a/b)\n",
    "else:\n",
    "    print(\"invalid option\")\n",
    "    \n",
    "    "
   ]
  },
  {
   "cell_type": "code",
   "execution_count": null,
   "id": "f34277c1",
   "metadata": {},
   "outputs": [],
   "source": []
  }
 ],
 "metadata": {
  "kernelspec": {
   "display_name": "Python 3 (ipykernel)",
   "language": "python",
   "name": "python3"
  },
  "language_info": {
   "codemirror_mode": {
    "name": "ipython",
    "version": 3
   },
   "file_extension": ".py",
   "mimetype": "text/x-python",
   "name": "python",
   "nbconvert_exporter": "python",
   "pygments_lexer": "ipython3",
   "version": "3.9.13"
  }
 },
 "nbformat": 4,
 "nbformat_minor": 5
}
