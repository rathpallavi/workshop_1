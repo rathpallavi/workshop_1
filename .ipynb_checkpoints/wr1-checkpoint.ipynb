{
 "cells": [
  {
   "cell_type": "code",
   "execution_count": null,
   "id": "d522955b",
   "metadata": {},
   "outputs": [],
   "source": [
    "a=input(\"pal\")"
   ]
  },
  {
   "cell_type": "code",
   "execution_count": null,
   "id": "82690190",
   "metadata": {},
   "outputs": [],
   "source": [
    "a=int(input(\"enter your name:\"))"
   ]
  },
  {
   "cell_type": "code",
   "execution_count": null,
   "id": "e4351ec5",
   "metadata": {},
   "outputs": [],
   "source": [
    "if(a==2):\n",
    "    print(2+2)\n",
    "elif(a==3):\n",
    "    print(3)\n",
    "elif(a==4):\n",
    "    print(4)\n",
    "else:\n",
    "    print(5)\n",
    "    "
   ]
  },
  {
   "cell_type": "code",
   "execution_count": null,
   "id": "58394942",
   "metadata": {},
   "outputs": [],
   "source": []
  }
 ],
 "metadata": {
  "kernelspec": {
   "display_name": "Python 3 (ipykernel)",
   "language": "python",
   "name": "python3"
  },
  "language_info": {
   "codemirror_mode": {
    "name": "ipython",
    "version": 3
   },
   "file_extension": ".py",
   "mimetype": "text/x-python",
   "name": "python",
   "nbconvert_exporter": "python",
   "pygments_lexer": "ipython3",
   "version": "3.9.13"
  }
 },
 "nbformat": 4,
 "nbformat_minor": 5
}
